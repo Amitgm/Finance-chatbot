{
 "cells": [
  {
   "cell_type": "code",
   "execution_count": 40,
   "id": "1c43fcac",
   "metadata": {},
   "outputs": [],
   "source": [
    "import yfinance as yf\n",
    "import matplotlib.pyplot as plt\n",
    "import pandas as pd"
   ]
  },
  {
   "cell_type": "code",
   "execution_count": 57,
   "id": "364cfbd8",
   "metadata": {},
   "outputs": [],
   "source": [
    "stock = \"AAPL\"\n",
    "aapl = yf.Ticker(stock)\n",
    "stock_history = aapl.history(period=\"1d\")"
   ]
  },
  {
   "cell_type": "code",
   "execution_count": 73,
   "id": "b055c135",
   "metadata": {},
   "outputs": [
    {
     "data": {
      "text/plain": [
       "{'id': '374f4f1a-d37c-3850-9514-15e18a35138f',\n",
       " 'content': {'id': '374f4f1a-d37c-3850-9514-15e18a35138f',\n",
       "  'contentType': 'STORY',\n",
       "  'title': '1 Wall Street Analyst Thinks Apple Is Going to $254. Is It a Buy Around $200?',\n",
       "  'description': '',\n",
       "  'summary': \"Apple (NASDAQ: AAPL) is one of the most dominant companies in the world, and the world's most valuable brand, according to several research outlets.  Much of Apple's components come from China, and the company was granted a tariff exemption by President Donald Trump.  With the company set to report fiscal second-quarter earnings next Thursday, Apple stock could be at a pivotal moment as the stock has been exceptionally volatile in recent weeks.\",\n",
       "  'pubDate': '2025-04-27T10:15:00Z',\n",
       "  'displayTime': '2025-04-27T10:15:00Z',\n",
       "  'isHosted': True,\n",
       "  'bypassModal': False,\n",
       "  'previewUrl': None,\n",
       "  'thumbnail': {'originalUrl': 'https://media.zenfs.com/en/motleyfool.com/d8db817c9627296ecc7136ca28d8278e',\n",
       "   'originalWidth': 1400,\n",
       "   'originalHeight': 933,\n",
       "   'caption': 'A group of people standing around holding their smartphones out.',\n",
       "   'resolutions': [{'url': 'https://s.yimg.com/uu/api/res/1.2/VpJ3WTZQfam_6bKx1pRQwQ--~B/aD05MzM7dz0xNDAwO2FwcGlkPXl0YWNoeW9u/https://media.zenfs.com/en/motleyfool.com/d8db817c9627296ecc7136ca28d8278e',\n",
       "     'width': 1400,\n",
       "     'height': 933,\n",
       "     'tag': 'original'},\n",
       "    {'url': 'https://s.yimg.com/uu/api/res/1.2/oAvuRWdVVdJbrL_oSfsvZg--~B/Zmk9c3RyaW07aD0xMjg7dz0xNzA7YXBwaWQ9eXRhY2h5b24-/https://media.zenfs.com/en/motleyfool.com/d8db817c9627296ecc7136ca28d8278e',\n",
       "     'width': 170,\n",
       "     'height': 128,\n",
       "     'tag': '170x128'}]},\n",
       "  'provider': {'displayName': 'Motley Fool', 'url': 'http://www.fool.com/'},\n",
       "  'canonicalUrl': {'url': 'https://www.fool.com/investing/2025/04/27/1-wall-street-analyst-thinks-apple-is-going-to-254/',\n",
       "   'site': 'finance',\n",
       "   'region': 'US',\n",
       "   'lang': 'en-US'},\n",
       "  'clickThroughUrl': {'url': 'https://finance.yahoo.com/news/1-wall-street-analyst-thinks-101500628.html',\n",
       "   'site': 'finance',\n",
       "   'region': 'US',\n",
       "   'lang': 'en-US'},\n",
       "  'metadata': {'editorsPick': False},\n",
       "  'finance': {'premiumFinance': {'isPremiumNews': False,\n",
       "    'isPremiumFreeNews': False}},\n",
       "  'storyline': None}}"
      ]
     },
     "execution_count": 73,
     "metadata": {},
     "output_type": "execute_result"
    }
   ],
   "source": [
    "aapl.news[-1]"
   ]
  },
  {
   "cell_type": "code",
   "execution_count": 59,
   "id": "46f164d6",
   "metadata": {},
   "outputs": [],
   "source": [
    "tickers = [\"AAPL\", \"NVDA\", \"TSLA\", \"MSFT\", \"GOOGL\"]"
   ]
  },
  {
   "cell_type": "code",
   "execution_count": 60,
   "id": "499a6ff6",
   "metadata": {},
   "outputs": [],
   "source": [
    "news_metric_explanations = {\n",
    "    \"title\": \"{title}\",\n",
    "    \"summary\": \"{summary}\",\n",
    "    \"pubDate\": \"{displayTime}\",\n",
    "    \"sentiment\": \"{sentiment}\"\n",
    "}\n"
   ]
  },
  {
   "cell_type": "code",
   "execution_count": 61,
   "id": "0bd38a05",
   "metadata": {},
   "outputs": [],
   "source": [
    "keys = [\"title\",\"summary\",\"pubDate\",\"sentiment\"]"
   ]
  },
  {
   "cell_type": "code",
   "execution_count": 62,
   "id": "2d8d3861",
   "metadata": {},
   "outputs": [
    {
     "data": {
      "text/plain": [
       "{'id': 'debff5be-1170-4c2d-8dc9-e249fea79be3',\n",
       " 'contentType': 'STORY',\n",
       " 'title': 'Chicken, crypto, and Nvidia: The companies that helped Trump’s inauguration shatter fundraising records',\n",
       " 'description': '',\n",
       " 'summary': 'A wide array of companies helped President Trump shatter fundraising records during his second inauguration, netting $239 million.',\n",
       " 'pubDate': '2025-04-21T16:09:42Z',\n",
       " 'displayTime': '2025-04-27T13:09:29Z',\n",
       " 'isHosted': True,\n",
       " 'bypassModal': False,\n",
       " 'previewUrl': None,\n",
       " 'thumbnail': {'originalUrl': 'https://s.yimg.com/os/creatr-uploaded-images/2025-04/0daa3150-1eca-11f0-baff-5cb796c95ca7',\n",
       "  'originalWidth': 7378,\n",
       "  'originalHeight': 4919,\n",
       "  'caption': '',\n",
       "  'resolutions': [{'url': 'https://s.yimg.com/uu/api/res/1.2/olaYzgHnl6yVYHnSaw_ylA--~B/aD00OTE5O3c9NzM3ODthcHBpZD15dGFjaHlvbg--/https://s.yimg.com/os/creatr-uploaded-images/2025-04/0daa3150-1eca-11f0-baff-5cb796c95ca7',\n",
       "    'width': 7378,\n",
       "    'height': 4919,\n",
       "    'tag': 'original'},\n",
       "   {'url': 'https://s.yimg.com/uu/api/res/1.2/11VZb6PXHyKmUIHqXtnDcA--~B/Zmk9c3RyaW07aD0xMjg7dz0xNzA7YXBwaWQ9eXRhY2h5b24-/https://s.yimg.com/os/creatr-uploaded-images/2025-04/0daa3150-1eca-11f0-baff-5cb796c95ca7',\n",
       "    'width': 170,\n",
       "    'height': 128,\n",
       "    'tag': '170x128'}]},\n",
       " 'provider': {'displayName': 'Yahoo Finance',\n",
       "  'url': 'http://finance.yahoo.com/'},\n",
       " 'canonicalUrl': {'url': 'https://finance.yahoo.com/news/chicken-crypto-and-nvidia-the-companies-that-helped-trumps-inauguration-shatter-fundraising-records-160942136.html',\n",
       "  'site': 'finance',\n",
       "  'region': 'US',\n",
       "  'lang': 'en-US'},\n",
       " 'clickThroughUrl': {'url': 'https://finance.yahoo.com/news/chicken-crypto-and-nvidia-the-companies-that-helped-trumps-inauguration-shatter-fundraising-records-160942136.html',\n",
       "  'site': 'finance',\n",
       "  'region': 'US',\n",
       "  'lang': 'en-US'},\n",
       " 'metadata': {'editorsPick': True},\n",
       " 'finance': {'premiumFinance': {'isPremiumNews': False,\n",
       "   'isPremiumFreeNews': False}},\n",
       " 'storyline': None}"
      ]
     },
     "execution_count": 62,
     "metadata": {},
     "output_type": "execute_result"
    }
   ],
   "source": [
    "aapl.news[0][\"content\"]"
   ]
  },
  {
   "cell_type": "code",
   "execution_count": 63,
   "id": "49797ae2",
   "metadata": {},
   "outputs": [
    {
     "name": "stderr",
     "output_type": "stream",
     "text": [
      "Device set to use cuda:0\n"
     ]
    }
   ],
   "source": [
    "from transformers import pipeline\n",
    "\n",
    "pipe = pipeline(\"text-classification\", model=\"ProsusAI/finbert\")"
   ]
  },
  {
   "cell_type": "code",
   "execution_count": 64,
   "id": "755f6fea",
   "metadata": {},
   "outputs": [
    {
     "data": {
      "text/plain": [
       "[{'label': 'positive', 'score': 0.9350087642669678}]"
      ]
     },
     "execution_count": 64,
     "metadata": {},
     "output_type": "execute_result"
    }
   ],
   "source": [
    "pipe(\"NVDA: summary = Big Tech stocks surged for a second day, with ‘Magnificent Seven’ firms adding $455 billion to their market capitalizations Wednesday as the Trump administration hinted at a deescalation of the US-China trade war.\")"
   ]
  },
  {
   "cell_type": "code",
   "execution_count": 65,
   "id": "dff5b681",
   "metadata": {},
   "outputs": [],
   "source": [
    "import datetime\n",
    "sentiment_data = []\n",
    "\n",
    "for symbol in tickers:\n",
    "    \n",
    "    ticker = yf.Ticker(symbol)\n",
    "    \n",
    "    news_list = ticker.news\n",
    "\n",
    "    entry = {\"symbol\": symbol, \"news\": []}\n",
    "\n",
    "    # goin through list of news, taking out each news\n",
    "    for news in news_list:\n",
    "        # taking out the news content\n",
    "        content = news[\"content\"]\n",
    "\n",
    "        content_dict = {}\n",
    "        \n",
    "        # looping through all keys\n",
    "        for key in keys:\n",
    "            \n",
    "            # getting the senitments out\n",
    "            if key == \"sentiment\":\n",
    "\n",
    "                value = pipe(content.get(\"summary\", None))[0][\"label\"]\n",
    "\n",
    "            else:\n",
    "\n",
    "                value = content.get(key, None)\n",
    "\n",
    "            # if value is not None\n",
    "            if value is not None:\n",
    "\n",
    "                content_dict[key] = value        \n",
    "\n",
    "        entry[\"news\"].append(\n",
    "\n",
    "            content_dict\n",
    "        )\n",
    "            \n",
    "    sentiment_data.append(entry)"
   ]
  },
  {
   "cell_type": "code",
   "execution_count": 78,
   "id": "8c305ac3",
   "metadata": {},
   "outputs": [
    {
     "data": {
      "text/plain": [
       "'2025-04-21T16:09:42Z'"
      ]
     },
     "execution_count": 78,
     "metadata": {},
     "output_type": "execute_result"
    }
   ],
   "source": [
    "sentiment_data[1][\"news\"][0][\"pubDate\"]"
   ]
  },
  {
   "cell_type": "code",
   "execution_count": 79,
   "id": "672ca96d",
   "metadata": {},
   "outputs": [],
   "source": [
    "from datetime import datetime"
   ]
  },
  {
   "cell_type": "code",
   "execution_count": 80,
   "id": "cf2c8b70",
   "metadata": {},
   "outputs": [],
   "source": [
    "\n",
    "\n",
    "# Convert to Python datetime object\n",
    "dt = datetime.strptime(sentiment_data[1][\"news\"][0][\"pubDate\"], '%Y-%m-%dT%H:%M:%SZ')"
   ]
  },
  {
   "cell_type": "code",
   "execution_count": null,
   "id": "b7c0ed02",
   "metadata": {},
   "outputs": [
    {
     "data": {
      "text/plain": [
       "datetime.datetime(2025, 4, 21, 16, 9, 42)"
      ]
     },
     "execution_count": 81,
     "metadata": {},
     "output_type": "execute_result"
    }
   ],
   "source": [
    "dt  "
   ]
  },
  {
   "cell_type": "code",
   "execution_count": 67,
   "id": "a5bdad25",
   "metadata": {},
   "outputs": [
    {
     "data": {
      "text/plain": [
       "5"
      ]
     },
     "execution_count": 67,
     "metadata": {},
     "output_type": "execute_result"
    }
   ],
   "source": [
    "len(sentiment_data)"
   ]
  },
  {
   "cell_type": "code",
   "execution_count": null,
   "id": "dec61f68",
   "metadata": {},
   "outputs": [],
   "source": []
  },
  {
   "cell_type": "code",
   "execution_count": null,
   "id": "0691ae5c",
   "metadata": {},
   "outputs": [],
   "source": []
  }
 ],
 "metadata": {
  "kernelspec": {
   "display_name": "Python 3",
   "language": "python",
   "name": "python3"
  },
  "language_info": {
   "codemirror_mode": {
    "name": "ipython",
    "version": 3
   },
   "file_extension": ".py",
   "mimetype": "text/x-python",
   "name": "python",
   "nbconvert_exporter": "python",
   "pygments_lexer": "ipython3",
   "version": "3.10.0"
  }
 },
 "nbformat": 4,
 "nbformat_minor": 5
}
