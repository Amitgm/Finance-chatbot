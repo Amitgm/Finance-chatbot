{
 "cells": [
  {
   "cell_type": "code",
   "execution_count": 1,
   "id": "9e9bdce6",
   "metadata": {},
   "outputs": [],
   "source": [
    "import yfinance as yf\n",
    "import matplotlib.pyplot as plt\n",
    "import pandas as pd\n",
    "import os\n",
    "from dotenv import load_dotenv\n",
    "import pymongo\n",
    "import sqlite3\n",
    "import mysql.connector\n",
    "from mysql.connector import errorcode"
   ]
  },
  {
   "cell_type": "code",
   "execution_count": 2,
   "id": "da578ccf",
   "metadata": {},
   "outputs": [],
   "source": [
    "config = {\n",
    "    'user': 'root',\n",
    "    'password': 'root',\n",
    "    'host': 'localhost',  # or your server IP\n",
    "    'database': 'stocks',\n",
    "    'raise_on_warnings': True\n",
    "}"
   ]
  },
  {
   "cell_type": "code",
   "execution_count": 3,
   "id": "98160619",
   "metadata": {},
   "outputs": [],
   "source": [
    "conn = mysql.connector.connect(**config)\n",
    "cursor = conn.cursor()"
   ]
  },
  {
   "cell_type": "code",
   "execution_count": 4,
   "id": "f317ba66",
   "metadata": {},
   "outputs": [],
   "source": [
    "def create_table(cursor):\n",
    "\n",
    "    cursor.execute('''\n",
    "        CREATE TABLE IF NOT EXISTS StockData (\n",
    "            id INT AUTO_INCREMENT PRIMARY KEY,\n",
    "            Open FLOAT,\n",
    "            High FLOAT,\n",
    "            Low FLOAT,\n",
    "            Close FLOAT,\n",
    "            Volume BIGINT,\n",
    "            Dividends FLOAT,\n",
    "            Stock_Splits FLOAT,\n",
    "            Date DATETIME,\n",
    "            ticker VARCHAR(10)\n",
    "        )\n",
    "        ''')\n",
    "\n",
    "    conn.commit()\n",
    "\n",
    "create_table(cursor)\n"
   ]
  },
  {
   "cell_type": "code",
   "execution_count": null,
   "id": "b11795fe",
   "metadata": {},
   "outputs": [],
   "source": [
    "def insert_stockdata_db(tickers):\n",
    "\n",
    "    stock_data = yf.Ticker(tickers)\n",
    "\n",
    "    stock_history = stock_data.history(period=\"3mo\")\n",
    "\n",
    "    stock_history[\"Date\"] = stock_history.index\n",
    "\n",
    "    stock_history[\"ticker\"] = tickers\n",
    "\n",
    "    stock_history.reset_index(drop=True,inplace=True)\n",
    "\n",
    "    sample_data = list(stock_history.itertuples(index=False, name=None))\n",
    "\n",
    "    insert_query = '''\n",
    "    INSERT INTO StockData (\n",
    "        Open, High, Low, Close, Volume, Dividends, Stock_Splits, Date, ticker\n",
    "    ) VALUES (%s, %s, %s, %s, %s, %s, %s, %s, %s)\n",
    "    '''\n",
    "\n",
    "    cursor.executemany(insert_query, sample_data)\n",
    "\n",
    "    conn.commit()"
   ]
  },
  {
   "cell_type": "code",
   "execution_count": 6,
   "id": "1f5651bf",
   "metadata": {},
   "outputs": [],
   "source": [
    "tickers = [\"AAPL\", \"NVDA\", \"TSLA\", \"MSFT\", \"GOOGL\"]"
   ]
  },
  {
   "cell_type": "code",
   "execution_count": 7,
   "id": "25b6175f",
   "metadata": {},
   "outputs": [],
   "source": [
    "for ticker in tickers:\n",
    "\n",
    "    insert_stockdata_db(ticker)"
   ]
  }
 ],
 "metadata": {
  "kernelspec": {
   "display_name": "Python 3",
   "language": "python",
   "name": "python3"
  },
  "language_info": {
   "codemirror_mode": {
    "name": "ipython",
    "version": 3
   },
   "file_extension": ".py",
   "mimetype": "text/x-python",
   "name": "python",
   "nbconvert_exporter": "python",
   "pygments_lexer": "ipython3",
   "version": "3.10.0"
  }
 },
 "nbformat": 4,
 "nbformat_minor": 5
}
